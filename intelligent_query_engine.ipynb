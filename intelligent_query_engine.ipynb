{
  "nbformat": 4,
  "nbformat_minor": 0,
  "metadata": {
    "colab": {
      "provenance": [],
      "machine_shape": "hm",
      "gpuType": "T4",
      "mount_file_id": "1rSsQGFui46iMIIljZCBWZrsFaaP-pg3L",
      "authorship_tag": "ABX9TyOWRHHhcE9BF2QFzszWRwdN"
    },
    "kernelspec": {
      "name": "python3",
      "display_name": "Python 3"
    },
    "language_info": {
      "name": "python"
    },
    "accelerator": "GPU"
  },
  "cells": [
    {
      "cell_type": "markdown",
      "source": [
        "#### Installation"
      ],
      "metadata": {
        "id": "hDiqXdIX7OYe"
      }
    },
    {
      "cell_type": "code",
      "source": [
        "%%bash\n",
        "\n",
        "echo \"Installing Python packages...\"\n",
        "\n",
        "# List of Python modules to install\n",
        "modules=(\"protobuf>=3.20.2\" \"mysql-connector-python\" \"pymysql\" \"sentence-transformers\" \"langchain_google_genai\" \"google-generativeai\" \"chromadb\" \"langchain_experimental\" \"langchain-huggingface\")\n",
        "\n",
        "# Iterate over the modules and install them using pip\n",
        "for module in \"${modules[@]}\"; do\n",
        "  if pip install \"$module\" --quiet; then\n",
        "    echo \"Successfully installed $module\"\n",
        "  else\n",
        "    echo \"Error installing $module\"\n",
        "    exit 1  # Exit if any module fails to install\n",
        "  fi\n",
        "done\n",
        "\n",
        "echo \"All modules installed successfully.\""
      ],
      "metadata": {
        "colab": {
          "base_uri": "https://localhost:8080/"
        },
        "id": "MZyiOpGU7MpD",
        "outputId": "0a8a7e38-9022-40ef-e5c1-59c09c6fae00"
      },
      "execution_count": 27,
      "outputs": [
        {
          "output_type": "stream",
          "name": "stdout",
          "text": [
            "Installing Python packages...\n",
            "Successfully installed protobuf>=3.20.2\n",
            "Successfully installed mysql-connector-python\n",
            "Successfully installed pymysql\n",
            "Successfully installed sentence-transformers\n",
            "Successfully installed langchain_google_genai\n",
            "Successfully installed google-generativeai\n",
            "Successfully installed chromadb\n",
            "Successfully installed langchain_experimental\n",
            "Successfully installed langchain-huggingface\n",
            "All modules installed successfully.\n"
          ]
        }
      ]
    },
    {
      "cell_type": "markdown",
      "source": [
        "#### Setup SQL Database"
      ],
      "metadata": {
        "id": "ng4m6rsr_7mk"
      }
    },
    {
      "cell_type": "code",
      "execution_count": 28,
      "metadata": {
        "colab": {
          "base_uri": "https://localhost:8080/"
        },
        "id": "KUxujAHnO7OH",
        "outputId": "baf5903e-c3ca-47cd-9dcb-99557d218ab7"
      },
      "outputs": [
        {
          "output_type": "stream",
          "name": "stdout",
          "text": [
            "MySQL installed and started.\n",
            "Command executed successfully.\n",
            "Script executed successfully.\n",
            "Script executed successfully.\n",
            "Script executed successfully.\n",
            "Script executed successfully.\n",
            "Script executed successfully.\n",
            "Script executed successfully.\n",
            "Database and tables set up successfully.\n",
            "\n",
            "--- Database Setup Report ---\n",
            "Connected to store_inventory database.\n",
            "All required tables exist.\n",
            "Record Counts:\n",
            "  t_shirts: 180\n",
            "  discounts: 11\n",
            "Sample Data:\n",
            "\n",
            "Table: t_shirts\n",
            "{'t_shirt_id': 1, 'brand': 'Adidas', 'color': 'Blue', 'size': 'L', 'price': 42, 'stock_quantity': 86}\n",
            "{'t_shirt_id': 2, 'brand': 'Puma', 'color': 'Navy', 'size': 'M', 'price': 20, 'stock_quantity': 71}\n",
            "{'t_shirt_id': 3, 'brand': 'Nike', 'color': 'White', 'size': 'XS', 'price': 28, 'stock_quantity': 86}\n",
            "{'t_shirt_id': 4, 'brand': 'Adidas', 'color': 'Black', 'size': 'S', 'price': 40, 'stock_quantity': 96}\n",
            "{'t_shirt_id': 5, 'brand': 'Levis', 'color': 'Black', 'size': 'M', 'price': 29, 'stock_quantity': 10}\n",
            "\n",
            "Table: discounts\n",
            "{'discount_id': 1, 't_shirt_id': 1, 'pct_discount': Decimal('10.00')}\n",
            "{'discount_id': 2, 't_shirt_id': 2, 'pct_discount': Decimal('15.00')}\n",
            "{'discount_id': 3, 't_shirt_id': 3, 'pct_discount': Decimal('20.00')}\n",
            "{'discount_id': 4, 't_shirt_id': 4, 'pct_discount': Decimal('5.00')}\n",
            "{'discount_id': 5, 't_shirt_id': 5, 'pct_discount': Decimal('25.00')}\n",
            "\n",
            "--- Report Summary ---\n",
            "Tables Check: Pass\n",
            "Record Counts: {'t_shirts': 180, 'discounts': 11}\n",
            "Sample Data Queried. See details above.\n",
            "\n",
            "--- End of Report ---\n"
          ]
        }
      ],
      "source": [
        "%run ./database_utils.ipynb"
      ]
    },
    {
      "cell_type": "markdown",
      "source": [
        "#### Import Common Modules"
      ],
      "metadata": {
        "id": "lMffzihiAJy5"
      }
    },
    {
      "cell_type": "code",
      "source": [
        "import mysql.connector\n",
        "from pprint import pprint\n",
        "import warnings\n",
        "warnings.filterwarnings(\"ignore\")"
      ],
      "metadata": {
        "id": "bqPl7ZHMANP7"
      },
      "execution_count": 29,
      "outputs": []
    },
    {
      "cell_type": "markdown",
      "source": [
        "#### Global Variables"
      ],
      "metadata": {
        "id": "HsNodIMeAZQt"
      }
    },
    {
      "cell_type": "code",
      "source": [
        "mysql_db_connection = {\n",
        "    \"host\": \"localhost\",\n",
        "    \"user\": \"root\",\n",
        "    \"password\": \"root\",\n",
        "    \"database\": \"store_inventory\"\n",
        "}"
      ],
      "metadata": {
        "id": "XUm7SSWtAbpy"
      },
      "execution_count": 30,
      "outputs": []
    },
    {
      "cell_type": "markdown",
      "source": [
        "#### Test SQL Database"
      ],
      "metadata": {
        "id": "hBIp2b5A5inc"
      }
    },
    {
      "cell_type": "code",
      "source": [
        "import pandas as pd\n",
        "\n",
        "def get_query_result(query):\n",
        "    connection = mysql.connector.connect(**mysql_db_connection)\n",
        "    df = pd.read_sql(query, connection)\n",
        "    return df"
      ],
      "metadata": {
        "id": "on7NRQZEcIO7"
      },
      "execution_count": 31,
      "outputs": []
    },
    {
      "cell_type": "code",
      "source": [
        "sql_query3 =\"\"\"SELECT sum(a.total_amount * ((100-COALESCE(discounts.pct_discount,0))/100)) as total_revenue from\n",
        "        (select sum(price*stock_quantity) as total_amount, t_shirt_id from t_shirts where brand = 'Levis'\n",
        "        group by t_shirt_id) a left join discounts on a.t_shirt_id = discounts.t_shirt_id\n",
        "        \"\"\"\n",
        "df = get_query_result(sql_query3)\n",
        "df.head()"
      ],
      "metadata": {
        "colab": {
          "base_uri": "https://localhost:8080/",
          "height": 81
        },
        "id": "Wi65hyj0Apt1",
        "outputId": "948d60bc-04a2-41dd-aa3a-6313f44005db"
      },
      "execution_count": 32,
      "outputs": [
        {
          "output_type": "execute_result",
          "data": {
            "text/plain": [
              "   total_revenue\n",
              "0        47085.7"
            ],
            "text/html": [
              "\n",
              "  <div id=\"df-53367584-ff5f-41e1-a7f9-98a0d6ec7a4c\" class=\"colab-df-container\">\n",
              "    <div>\n",
              "<style scoped>\n",
              "    .dataframe tbody tr th:only-of-type {\n",
              "        vertical-align: middle;\n",
              "    }\n",
              "\n",
              "    .dataframe tbody tr th {\n",
              "        vertical-align: top;\n",
              "    }\n",
              "\n",
              "    .dataframe thead th {\n",
              "        text-align: right;\n",
              "    }\n",
              "</style>\n",
              "<table border=\"1\" class=\"dataframe\">\n",
              "  <thead>\n",
              "    <tr style=\"text-align: right;\">\n",
              "      <th></th>\n",
              "      <th>total_revenue</th>\n",
              "    </tr>\n",
              "  </thead>\n",
              "  <tbody>\n",
              "    <tr>\n",
              "      <th>0</th>\n",
              "      <td>47085.7</td>\n",
              "    </tr>\n",
              "  </tbody>\n",
              "</table>\n",
              "</div>\n",
              "    <div class=\"colab-df-buttons\">\n",
              "\n",
              "  <div class=\"colab-df-container\">\n",
              "    <button class=\"colab-df-convert\" onclick=\"convertToInteractive('df-53367584-ff5f-41e1-a7f9-98a0d6ec7a4c')\"\n",
              "            title=\"Convert this dataframe to an interactive table.\"\n",
              "            style=\"display:none;\">\n",
              "\n",
              "  <svg xmlns=\"http://www.w3.org/2000/svg\" height=\"24px\" viewBox=\"0 -960 960 960\">\n",
              "    <path d=\"M120-120v-720h720v720H120Zm60-500h600v-160H180v160Zm220 220h160v-160H400v160Zm0 220h160v-160H400v160ZM180-400h160v-160H180v160Zm440 0h160v-160H620v160ZM180-180h160v-160H180v160Zm440 0h160v-160H620v160Z\"/>\n",
              "  </svg>\n",
              "    </button>\n",
              "\n",
              "  <style>\n",
              "    .colab-df-container {\n",
              "      display:flex;\n",
              "      gap: 12px;\n",
              "    }\n",
              "\n",
              "    .colab-df-convert {\n",
              "      background-color: #E8F0FE;\n",
              "      border: none;\n",
              "      border-radius: 50%;\n",
              "      cursor: pointer;\n",
              "      display: none;\n",
              "      fill: #1967D2;\n",
              "      height: 32px;\n",
              "      padding: 0 0 0 0;\n",
              "      width: 32px;\n",
              "    }\n",
              "\n",
              "    .colab-df-convert:hover {\n",
              "      background-color: #E2EBFA;\n",
              "      box-shadow: 0px 1px 2px rgba(60, 64, 67, 0.3), 0px 1px 3px 1px rgba(60, 64, 67, 0.15);\n",
              "      fill: #174EA6;\n",
              "    }\n",
              "\n",
              "    .colab-df-buttons div {\n",
              "      margin-bottom: 4px;\n",
              "    }\n",
              "\n",
              "    [theme=dark] .colab-df-convert {\n",
              "      background-color: #3B4455;\n",
              "      fill: #D2E3FC;\n",
              "    }\n",
              "\n",
              "    [theme=dark] .colab-df-convert:hover {\n",
              "      background-color: #434B5C;\n",
              "      box-shadow: 0px 1px 3px 1px rgba(0, 0, 0, 0.15);\n",
              "      filter: drop-shadow(0px 1px 2px rgba(0, 0, 0, 0.3));\n",
              "      fill: #FFFFFF;\n",
              "    }\n",
              "  </style>\n",
              "\n",
              "    <script>\n",
              "      const buttonEl =\n",
              "        document.querySelector('#df-53367584-ff5f-41e1-a7f9-98a0d6ec7a4c button.colab-df-convert');\n",
              "      buttonEl.style.display =\n",
              "        google.colab.kernel.accessAllowed ? 'block' : 'none';\n",
              "\n",
              "      async function convertToInteractive(key) {\n",
              "        const element = document.querySelector('#df-53367584-ff5f-41e1-a7f9-98a0d6ec7a4c');\n",
              "        const dataTable =\n",
              "          await google.colab.kernel.invokeFunction('convertToInteractive',\n",
              "                                                    [key], {});\n",
              "        if (!dataTable) return;\n",
              "\n",
              "        const docLinkHtml = 'Like what you see? Visit the ' +\n",
              "          '<a target=\"_blank\" href=https://colab.research.google.com/notebooks/data_table.ipynb>data table notebook</a>'\n",
              "          + ' to learn more about interactive tables.';\n",
              "        element.innerHTML = '';\n",
              "        dataTable['output_type'] = 'display_data';\n",
              "        await google.colab.output.renderOutput(dataTable, element);\n",
              "        const docLink = document.createElement('div');\n",
              "        docLink.innerHTML = docLinkHtml;\n",
              "        element.appendChild(docLink);\n",
              "      }\n",
              "    </script>\n",
              "  </div>\n",
              "\n",
              "\n",
              "    </div>\n",
              "  </div>\n"
            ],
            "application/vnd.google.colaboratory.intrinsic+json": {
              "type": "dataframe",
              "variable_name": "df",
              "summary": "{\n  \"name\": \"df\",\n  \"rows\": 1,\n  \"fields\": [\n    {\n      \"column\": \"total_revenue\",\n      \"properties\": {\n        \"dtype\": \"number\",\n        \"std\": null,\n        \"min\": 47085.7,\n        \"max\": 47085.7,\n        \"num_unique_values\": 1,\n        \"samples\": [\n          47085.7\n        ],\n        \"semantic_type\": \"\",\n        \"description\": \"\"\n      }\n    }\n  ]\n}"
            }
          },
          "metadata": {},
          "execution_count": 32
        }
      ]
    },
    {
      "cell_type": "markdown",
      "source": [
        "#### Playground with Google Generative AI library"
      ],
      "metadata": {
        "id": "bE926WLX5rlk"
      }
    },
    {
      "cell_type": "code",
      "source": [
        "from langchain_google_genai import GoogleGenerativeAI\n",
        "from google.colab import userdata\n",
        "\n",
        "api_key = userdata.get('GEMINI_KEY')\n",
        "\n",
        "# Create an instance of the GoogleGenerativeAI class\n",
        "llm = GoogleGenerativeAI(model=\"gemini-pro\", google_api_key=api_key, temperature=0.2)"
      ],
      "metadata": {
        "id": "gDA5sF5Z5F6F"
      },
      "execution_count": 33,
      "outputs": []
    },
    {
      "cell_type": "code",
      "source": [
        "from langchain.utilities import SQLDatabase\n",
        "from langchain_experimental.sql import SQLDatabaseChain\n",
        "\n",
        "database_uri = f\"mysql+mysqlconnector://{mysql_db_connection['user']}:{mysql_db_connection['password']}@{mysql_db_connection['host']}/{mysql_db_connection['database']}\"\n",
        "\n",
        "db = SQLDatabase.from_uri(database_uri, sample_rows_in_table_info=3)\n",
        "\n",
        "print(db.table_info)"
      ],
      "metadata": {
        "colab": {
          "base_uri": "https://localhost:8080/"
        },
        "id": "ZTMzx6A36EV2",
        "outputId": "7cfdd49b-a9ef-419d-b21f-d2bc8c130f9d"
      },
      "execution_count": 34,
      "outputs": [
        {
          "output_type": "stream",
          "name": "stdout",
          "text": [
            "\n",
            "CREATE TABLE discounts (\n",
            "\tdiscount_id INTEGER NOT NULL AUTO_INCREMENT, \n",
            "\tt_shirt_id INTEGER NOT NULL, \n",
            "\tpct_discount DECIMAL(5, 2), \n",
            "\tPRIMARY KEY (discount_id), \n",
            "\tCONSTRAINT discounts_ibfk_1 FOREIGN KEY(t_shirt_id) REFERENCES t_shirts (t_shirt_id), \n",
            "\tCONSTRAINT discounts_chk_1 CHECK ((`pct_discount` between 0 and 100))\n",
            ")ENGINE=InnoDB COLLATE utf8mb4_0900_ai_ci DEFAULT CHARSET=utf8mb4\n",
            "\n",
            "/*\n",
            "3 rows from discounts table:\n",
            "discount_id\tt_shirt_id\tpct_discount\n",
            "1\t1\t10.00\n",
            "2\t2\t15.00\n",
            "3\t3\t20.00\n",
            "*/\n",
            "\n",
            "\n",
            "CREATE TABLE t_shirts (\n",
            "\tt_shirt_id INTEGER NOT NULL AUTO_INCREMENT, \n",
            "\tbrand ENUM('Peter England','Van Huesen','Levis','Nike','Adidas','Puma') NOT NULL, \n",
            "\tcolor ENUM('Red','Blue','Pink','Black','White','Navy') NOT NULL, \n",
            "\tsize ENUM('XS','S','M','L','XL') NOT NULL, \n",
            "\tprice INTEGER, \n",
            "\tstock_quantity INTEGER NOT NULL, \n",
            "\tPRIMARY KEY (t_shirt_id), \n",
            "\tCONSTRAINT t_shirts_chk_1 CHECK ((`price` between 10 and 50))\n",
            ")ENGINE=InnoDB COLLATE utf8mb4_0900_ai_ci DEFAULT CHARSET=utf8mb4\n",
            "\n",
            "/*\n",
            "3 rows from t_shirts table:\n",
            "t_shirt_id\tbrand\tcolor\tsize\tprice\tstock_quantity\n",
            "1\tAdidas\tBlue\tL\t42\t86\n",
            "2\tPuma\tNavy\tM\t20\t71\n",
            "3\tNike\tWhite\tXS\t28\t86\n",
            "*/\n"
          ]
        }
      ]
    },
    {
      "cell_type": "code",
      "source": [
        "db_chain = SQLDatabaseChain.from_llm(llm, db, verbose=True)"
      ],
      "metadata": {
        "id": "YAE8sjZoCJNc"
      },
      "execution_count": 35,
      "outputs": []
    },
    {
      "cell_type": "code",
      "source": [
        "test_query = db_chain.run(\"How many t-shirts do we have left for nike in extra small size and white color?, Generate SQL without pre-amble\")\n",
        "print(test_query)"
      ],
      "metadata": {
        "colab": {
          "base_uri": "https://localhost:8080/"
        },
        "id": "UFi6EVf0NCUS",
        "outputId": "50a79458-decf-4f7e-a7cf-9570061a5f66"
      },
      "execution_count": 36,
      "outputs": [
        {
          "output_type": "stream",
          "name": "stdout",
          "text": [
            "\n",
            "\n",
            "\u001b[1m> Entering new SQLDatabaseChain chain...\u001b[0m\n",
            "How many t-shirts do we have left for nike in extra small size and white color?, Generate SQL without pre-amble\n",
            "SQLQuery:\u001b[32;1m\u001b[1;3mSELECT \n",
            "    `stock_quantity`\n",
            "FROM \n",
            "    `t_shirts`\n",
            "WHERE \n",
            "    `brand` = 'Nike' AND `color` = 'White' AND `size` = 'XS';\u001b[0m\n",
            "SQLResult: \u001b[33;1m\u001b[1;3m[(86,)]\u001b[0m\n",
            "Answer:\u001b[32;1m\u001b[1;3m86\u001b[0m\n",
            "\u001b[1m> Finished chain.\u001b[0m\n",
            "86\n"
          ]
        }
      ]
    },
    {
      "cell_type": "markdown",
      "source": [
        "#### Few Shot Learning"
      ],
      "metadata": {
        "id": "t-TarxNTXJcz"
      }
    },
    {
      "cell_type": "code",
      "source": [
        "from decimal import Decimal\n",
        "\n",
        "def generate_few_shot_list_with_answers(question_query: list[dict[str, str]], db_config: dict) -> list[dict]:\n",
        "    \"\"\"\n",
        "    Generate a few-shot list with answers fetched from a MySQL database.\n",
        "\n",
        "    :param question_query: List of dictionaries with SQL queries and corresponding questions.\n",
        "    :param db_config: Dictionary with MySQL database connection parameters.\n",
        "    :return: List of dictionaries containing questions, queries, and answers.\n",
        "    \"\"\"\n",
        "    # Connect to the MySQL database\n",
        "    connection = mysql.connector.connect(**db_config)\n",
        "    cursor = connection.cursor()\n",
        "\n",
        "    few_shots = []\n",
        "\n",
        "    for iter, elem in enumerate(question_query, start=1):\n",
        "        # Initialize answer before the try-except block\n",
        "        answer = \"No result\"  # Default value if query fails or returns None\n",
        "        result = \"Result of the SQL query\" # Default result value\n",
        "\n",
        "        # Try to execute the SQL query and fetch the result\n",
        "        try:\n",
        "            cursor.execute(elem['SQLQuery'])\n",
        "            query_res = cursor.fetchone()\n",
        "            # If query_res is not None, get the first element; otherwise, use the default answer\n",
        "            if query_res and query_res[0] is not None:\n",
        "                # Convert Decimal to a clean integer or float\n",
        "                if isinstance(query_res[0], Decimal):\n",
        "                    answer = int(query_res[0]) if query_res[0] == query_res[0].to_integral_value() else float(query_res[0])\n",
        "                else:\n",
        "                    answer = query_res[0]\n",
        "        except Exception as e:\n",
        "            result = f\"Error executing query: {e}\"\n",
        "\n",
        "        # Append the result dictionary\n",
        "        few_shots.append({\n",
        "            'id': iter,\n",
        "            'Question': elem['Question'],\n",
        "            'SQLQuery': elem['SQLQuery'],\n",
        "            'SQLResult': result,\n",
        "            'Answer': answer\n",
        "        })\n",
        "\n",
        "    # Close the database connection\n",
        "    cursor.close()\n",
        "    connection.close()\n",
        "\n",
        "    return few_shots"
      ],
      "metadata": {
        "id": "OigoENINeWsg"
      },
      "execution_count": 37,
      "outputs": []
    },
    {
      "cell_type": "code",
      "source": [
        "question_query = [\n",
        "    {\n",
        "        'Question': \"How many t-shirts do we have left for Nike in XS size and white color?\",\n",
        "        'SQLQuery': \"SELECT SUM(stock_quantity) FROM t_shirts WHERE brand = 'Nike' AND color = 'White' AND size = 'XS'\"\n",
        "    },\n",
        "    {\n",
        "        'Question': \"How much is the total price of the inventory for all S-size t-shirts?\",\n",
        "        'SQLQuery': \"SELECT SUM(price * stock_quantity) FROM t_shirts WHERE size = 'S'\"\n",
        "    },\n",
        "    {\n",
        "        'Question': \"If we have to sell all the Levi’s T-shirts today with discounts applied. How much revenue our store will generate (post discounts)?\",\n",
        "        'SQLQuery': \"\"\"SELECT SUM(a.total_amount * ((100 - COALESCE(discounts.pct_discount, 0)) / 100)) AS total_revenue\n",
        "            FROM (\n",
        "                SELECT SUM(price * stock_quantity) AS total_amount, t_shirt_id\n",
        "                FROM t_shirts\n",
        "                WHERE brand = 'Levis'\n",
        "                GROUP BY t_shirt_id\n",
        "            ) a\n",
        "            LEFT JOIN discounts ON a.t_shirt_id = discounts.t_shirt_id\n",
        "        \"\"\"\n",
        "    },\n",
        "    {\n",
        "        'Question': \"If we have to sell all the Levi’s T-shirts today. How much revenue our store will generate without discount?\",\n",
        "        'SQLQuery': \"SELECT SUM(price * stock_quantity) FROM t_shirts WHERE brand = 'Levis'\"\n",
        "    },\n",
        "    {\n",
        "        'Question': \"How many white color Levi's shirt I have?\",\n",
        "        'SQLQuery': \"SELECT SUM(stock_quantity) FROM t_shirts WHERE brand = 'Levis' AND color = 'White'\"\n",
        "    },\n",
        "    {\n",
        "        'Question': \"How much sales amount will be generated if we sell all large size t-shirts today in Nike brand after discounts?\",\n",
        "        'SQLQuery': \"\"\"SELECT SUM(a.total_amount * ((100 - COALESCE(discounts.pct_discount, 0)) / 100)) AS total_revenue\n",
        "            FROM (\n",
        "                SELECT SUM(price * stock_quantity) AS total_amount, t_shirt_id\n",
        "                FROM t_shirts\n",
        "                WHERE brand = 'Nike' AND size = 'L'\n",
        "                GROUP BY t_shirt_id\n",
        "            ) a\n",
        "            LEFT JOIN discounts ON a.t_shirt_id = discounts.t_shirt_id\n",
        "        \"\"\"\n",
        "    }\n",
        "]\n",
        "\n",
        "from pprint import pprint\n",
        "\n",
        "few_shots = generate_few_shot_list_with_answers(question_query, mysql_db_connection)\n",
        "pprint(few_shots[:2])"
      ],
      "metadata": {
        "colab": {
          "base_uri": "https://localhost:8080/"
        },
        "id": "0yuWelxFsvFd",
        "outputId": "94ee2129-fbed-4f3b-fd15-a9484035e344"
      },
      "execution_count": 38,
      "outputs": [
        {
          "output_type": "stream",
          "name": "stdout",
          "text": [
            "[{'Answer': 86,\n",
            "  'Question': 'How many t-shirts do we have left for Nike in XS size and white '\n",
            "              'color?',\n",
            "  'SQLQuery': \"SELECT SUM(stock_quantity) FROM t_shirts WHERE brand = 'Nike' \"\n",
            "              \"AND color = 'White' AND size = 'XS'\",\n",
            "  'SQLResult': 'Result of the SQL query',\n",
            "  'id': 1},\n",
            " {'Answer': 60631,\n",
            "  'Question': 'How much is the total price of the inventory for all S-size '\n",
            "              't-shirts?',\n",
            "  'SQLQuery': 'SELECT SUM(price * stock_quantity) FROM t_shirts WHERE size = '\n",
            "              \"'S'\",\n",
            "  'SQLResult': 'Result of the SQL query',\n",
            "  'id': 2}]\n"
          ]
        }
      ]
    },
    {
      "cell_type": "code",
      "source": [
        "from langchain_huggingface import HuggingFaceEmbeddings\n",
        "\n",
        "# model_name = \"sentence-transformers/all-mpnet-base-v2\"\n",
        "model_name = \"sentence-transformers/all-MiniLM-L6-v2\"\n",
        "# model_kwargs = {'device': 'cpu'}\n",
        "hf = HuggingFaceEmbeddings(\n",
        "    model_name=model_name,\n",
        "    # model_kwargs=model_kwargs,\n",
        ")"
      ],
      "metadata": {
        "id": "PCj7_c2_Zqg6"
      },
      "execution_count": 39,
      "outputs": []
    },
    {
      "cell_type": "code",
      "source": [
        "to_vectorize = [' '.join(str(v) for v in elem.values() if v != elem['id']) for elem in few_shots]\n",
        "print(to_vectorize)"
      ],
      "metadata": {
        "colab": {
          "base_uri": "https://localhost:8080/"
        },
        "id": "7pUGDW5fdl75",
        "outputId": "1bc27086-881b-46b2-a2e2-718190745c96"
      },
      "execution_count": 40,
      "outputs": [
        {
          "output_type": "stream",
          "name": "stdout",
          "text": [
            "[\"How many t-shirts do we have left for Nike in XS size and white color? SELECT SUM(stock_quantity) FROM t_shirts WHERE brand = 'Nike' AND color = 'White' AND size = 'XS' Result of the SQL query 86\", \"How much is the total price of the inventory for all S-size t-shirts? SELECT SUM(price * stock_quantity) FROM t_shirts WHERE size = 'S' Result of the SQL query 60631\", \"If we have to sell all the Levi’s T-shirts today with discounts applied. How much revenue our store will generate (post discounts)? SELECT SUM(a.total_amount * ((100 - COALESCE(discounts.pct_discount, 0)) / 100)) AS total_revenue\\n            FROM (\\n                SELECT SUM(price * stock_quantity) AS total_amount, t_shirt_id\\n                FROM t_shirts\\n                WHERE brand = 'Levis'\\n                GROUP BY t_shirt_id\\n            ) a\\n            LEFT JOIN discounts ON a.t_shirt_id = discounts.t_shirt_id\\n         Result of the SQL query 47085.7\", \"If we have to sell all the Levi’s T-shirts today. How much revenue our store will generate without discount? SELECT SUM(price * stock_quantity) FROM t_shirts WHERE brand = 'Levis' Result of the SQL query 48253\", \"How many white color Levi's shirt I have? SELECT SUM(stock_quantity) FROM t_shirts WHERE brand = 'Levis' AND color = 'White' Result of the SQL query 235\", \"How much sales amount will be generated if we sell all large size t-shirts today in Nike brand after discounts? SELECT SUM(a.total_amount * ((100 - COALESCE(discounts.pct_discount, 0)) / 100)) AS total_revenue\\n            FROM (\\n                SELECT SUM(price * stock_quantity) AS total_amount, t_shirt_id\\n                FROM t_shirts\\n                WHERE brand = 'Nike' AND size = 'L'\\n                GROUP BY t_shirt_id\\n            ) a\\n            LEFT JOIN discounts ON a.t_shirt_id = discounts.t_shirt_id\\n         Result of the SQL query 8328\"]\n"
          ]
        }
      ]
    },
    {
      "cell_type": "code",
      "source": [
        "from langchain.vectorstores import Chroma\n",
        "\n",
        "fewshot_vectorstore = Chroma.from_texts(to_vectorize, hf, metadatas=[elem for elem in few_shots])"
      ],
      "metadata": {
        "id": "16QxlU5vdmOl"
      },
      "execution_count": 41,
      "outputs": []
    },
    {
      "cell_type": "code",
      "source": [
        "from langchain.prompts import SemanticSimilarityExampleSelector\n",
        "\n",
        "example_selector = SemanticSimilarityExampleSelector(\n",
        "    vectorstore=fewshot_vectorstore,\n",
        "    k=2 # pull me 2 similar example\n",
        ")\n",
        "\n",
        "example_selector.select_examples({\n",
        "    'Question': \"How many t-shirts do we have left for Nike in XS size and white color?\"\n",
        "})"
      ],
      "metadata": {
        "colab": {
          "base_uri": "https://localhost:8080/"
        },
        "id": "MAnh_kAtycNE",
        "outputId": "a44e8e36-1ab6-4f2f-d5c2-42264d04a413"
      },
      "execution_count": 42,
      "outputs": [
        {
          "output_type": "execute_result",
          "data": {
            "text/plain": [
              "[{'Answer': 86,\n",
              "  'Question': 'How many t-shirts do we have left for Nike in XS size and white color?',\n",
              "  'SQLQuery': \"SELECT SUM(stock_quantity) FROM t_shirts WHERE brand = 'Nike' AND color = 'White' AND size = 'XS'\",\n",
              "  'SQLResult': 'Result of the SQL query',\n",
              "  'id': 1},\n",
              " {'Answer': 73,\n",
              "  'Question': 'How many t-shirts do we have left for Nike in XS size and white color?',\n",
              "  'SQLQuery': \"SELECT SUM(stock_quantity) FROM t_shirts WHERE brand = 'Nike' AND color = 'White' AND size = 'XS'\",\n",
              "  'SQLResult': 'Result of the SQL query',\n",
              "  'id': 1}]"
            ]
          },
          "metadata": {},
          "execution_count": 42
        }
      ]
    },
    {
      "cell_type": "code",
      "source": [
        "from langchain.chains.sql_database.prompt import PROMPT_SUFFIX, _mysql_prompt\n",
        "\n",
        "print(_mysql_prompt)"
      ],
      "metadata": {
        "colab": {
          "base_uri": "https://localhost:8080/"
        },
        "id": "uqcGWdZVyxxl",
        "outputId": "1ab2bba6-9f46-4eff-ec45-4008c80e2a7f"
      },
      "execution_count": 43,
      "outputs": [
        {
          "output_type": "stream",
          "name": "stdout",
          "text": [
            "You are a MySQL expert. Given an input question, first create a syntactically correct MySQL query to run, then look at the results of the query and return the answer to the input question.\n",
            "Unless the user specifies in the question a specific number of examples to obtain, query for at most {top_k} results using the LIMIT clause as per MySQL. You can order the results to return the most informative data in the database.\n",
            "Never query for all columns from a table. You must query only the columns that are needed to answer the question. Wrap each column name in backticks (`) to denote them as delimited identifiers.\n",
            "Pay attention to use only the column names you can see in the tables below. Be careful to not query for columns that do not exist. Also, pay attention to which column is in which table.\n",
            "Pay attention to use CURDATE() function to get the current date, if the question involves \"today\".\n",
            "\n",
            "Use the following format:\n",
            "\n",
            "Question: Question here\n",
            "SQLQuery: SQL Query to run\n",
            "SQLResult: Result of the SQLQuery\n",
            "Answer: Final answer here\n",
            "\n",
            "\n"
          ]
        }
      ]
    },
    {
      "cell_type": "code",
      "source": [
        "print(PROMPT_SUFFIX)"
      ],
      "metadata": {
        "colab": {
          "base_uri": "https://localhost:8080/"
        },
        "id": "4eJLtNa3zU-5",
        "outputId": "0d984b02-ade1-4541-faf6-01c3d100575a"
      },
      "execution_count": 44,
      "outputs": [
        {
          "output_type": "stream",
          "name": "stdout",
          "text": [
            "Only use the following tables:\n",
            "{table_info}\n",
            "\n",
            "Question: {input}\n"
          ]
        }
      ]
    },
    {
      "cell_type": "code",
      "source": [
        "from langchain.prompts.prompt import PromptTemplate\n",
        "\n",
        "example_prompt = PromptTemplate(\n",
        "    input_variables=[\"Question\", \"SQLQuery\", \"SQLResult\", \"Answer\"],\n",
        "    template=\"\\nQuestion: {Question}\\nSQLQuery: {SQLQuery}\\nSQLResult: {SQLResult}\\nAnswer: {Answer}\"\n",
        ")"
      ],
      "metadata": {
        "id": "-AM7zZryzfNX"
      },
      "execution_count": 45,
      "outputs": []
    },
    {
      "cell_type": "code",
      "source": [
        "from langchain.prompts import FewShotPromptTemplate\n",
        "\n",
        "few_shot_prompt = FewShotPromptTemplate(\n",
        "    example_selector=example_selector,\n",
        "    example_prompt=example_prompt,\n",
        "    prefix=_mysql_prompt,\n",
        "    suffix=PROMPT_SUFFIX,\n",
        "    input_variables=[\"input\", \"table_info\", \"top_k\"]\n",
        ")"
      ],
      "metadata": {
        "id": "ZEKJtZYW0Hbg"
      },
      "execution_count": 46,
      "outputs": []
    },
    {
      "cell_type": "code",
      "source": [
        "new_chain = SQLDatabaseChain.from_llm(llm, db, verbose=True, prompt=few_shot_prompt)"
      ],
      "metadata": {
        "id": "Gp-Jy5t00owl"
      },
      "execution_count": 47,
      "outputs": []
    },
    {
      "cell_type": "markdown",
      "source": [
        "#### Executor"
      ],
      "metadata": {
        "id": "-pYkwBrWBOPj"
      }
    },
    {
      "cell_type": "code",
      "source": [
        "while True:\n",
        "    user_input = input(\"Enter your question (or 'exit' to quit): \")\n",
        "\n",
        "    if user_input.lower() == 'exit':\n",
        "        break\n",
        "    result = new_chain(user_input).get('result', \"\")\n",
        "    print(result)"
      ],
      "metadata": {
        "colab": {
          "base_uri": "https://localhost:8080/"
        },
        "id": "AglWTmG81JLZ",
        "outputId": "59c37198-8cdb-4256-a776-bcfebf24d737"
      },
      "execution_count": 49,
      "outputs": [
        {
          "name": "stdout",
          "output_type": "stream",
          "text": [
            "Enter your question (or 'exit' to quit): If we have to sell all the Van Heuson T-shirts today with discounts applied. How much revenue  our store will generate (post discounts)?\n",
            "\n",
            "\n",
            "\u001b[1m> Entering new SQLDatabaseChain chain...\u001b[0m\n",
            "If we have to sell all the Van Heuson T-shirts today with discounts applied. How much revenue  our store will generate (post discounts)?\n",
            "SQLQuery:\u001b[32;1m\u001b[1;3mSELECT SUM(a.total_amount * ((100 - COALESCE(discounts.pct_discount, 0)) / 100)) AS total_revenue\n",
            "            FROM (\n",
            "                SELECT SUM(price * stock_quantity) AS total_amount, t_shirt_id\n",
            "                FROM t_shirts\n",
            "                WHERE brand = 'Van Huesen'\n",
            "                GROUP BY t_shirt_id\n",
            "            ) a\n",
            "            LEFT JOIN discounts ON a.t_shirt_id = discounts.t_shirt_id\u001b[0m\n",
            "SQLResult: \u001b[33;1m\u001b[1;3m[(Decimal('44833.000000'),)]\u001b[0m\n",
            "Answer:\u001b[32;1m\u001b[1;3m44833\u001b[0m\n",
            "\u001b[1m> Finished chain.\u001b[0m\n",
            "44833\n",
            "Enter your question (or 'exit' to quit): How much is the price of all white color levis t shirts?\n",
            "\n",
            "\n",
            "\u001b[1m> Entering new SQLDatabaseChain chain...\u001b[0m\n",
            "How much is the price of all white color levis t shirts?\n",
            "SQLQuery:\u001b[32;1m\u001b[1;3mSELECT SUM(price * stock_quantity) AS total_price\n",
            "FROM t_shirts\n",
            "WHERE brand = 'Levis' AND color = 'White';\u001b[0m\n",
            "SQLResult: \u001b[33;1m\u001b[1;3m[(Decimal('7270'),)]\u001b[0m\n",
            "Answer:\u001b[32;1m\u001b[1;3m7270\u001b[0m\n",
            "\u001b[1m> Finished chain.\u001b[0m\n",
            "7270\n",
            "Enter your question (or 'exit' to quit): How many t-shirts do we have left for Nike in XS size and white color?\n",
            "\n",
            "\n",
            "\u001b[1m> Entering new SQLDatabaseChain chain...\u001b[0m\n",
            "How many t-shirts do we have left for Nike in XS size and white color?\n",
            "SQLQuery:\u001b[32;1m\u001b[1;3mSELECT SUM(`stock_quantity`) AS total_stock\n",
            "FROM `t_shirts`\n",
            "WHERE `brand` = 'Nike' AND `color` = 'White' AND `size` = 'XS';\u001b[0m\n",
            "SQLResult: \u001b[33;1m\u001b[1;3m[(Decimal('86'),)]\u001b[0m\n",
            "Answer:\u001b[32;1m\u001b[1;3m86\u001b[0m\n",
            "\u001b[1m> Finished chain.\u001b[0m\n",
            "86\n",
            "Enter your question (or 'exit' to quit): exit\n"
          ]
        }
      ]
    }
  ]
}