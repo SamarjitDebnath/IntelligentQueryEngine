{
  "nbformat": 4,
  "nbformat_minor": 0,
  "metadata": {
    "colab": {
      "provenance": [],
      "machine_shape": "hm",
      "gpuType": "V28",
      "mount_file_id": "1J7-G2Xi3u5Ud9pHWMN2J7g96MRloORes",
      "authorship_tag": "ABX9TyMhKpVb0AXwI6bo4WyuIxdD"
    },
    "kernelspec": {
      "name": "python3",
      "display_name": "Python 3"
    },
    "language_info": {
      "name": "python"
    },
    "accelerator": "TPU"
  },
  "cells": [
    {
      "cell_type": "markdown",
      "source": [
        "### ** ----- Utility Module ------ **\n",
        "Helps to create, Manage Database"
      ],
      "metadata": {
        "id": "UUdTG1a-UOrT"
      }
    },
    {
      "cell_type": "markdown",
      "source": [
        "#### Environment Setup"
      ],
      "metadata": {
        "id": "6K8c0Zrk7qrQ"
      }
    },
    {
      "cell_type": "code",
      "source": [
        "import subprocess\n",
        "class EnvironmentSetup:\n",
        "    \"\"\"Class to handle environment setup and configuration.\"\"\"\n",
        "    def __init__(self) -> None:\n",
        "        self.__install_mysql()\n",
        "\n",
        "    def __install_mysql(self) -> None:\n",
        "        \"\"\"Installs MySQL server and connector if not already installed.\"\"\"\n",
        "        subprocess.run(['pip', 'install', 'mysql-connector-python', '--quiet'])\n",
        "        subprocess.run(['apt-get', '-y', 'install', 'mysql-server', '--quiet'])\n",
        "        subprocess.run(['service', 'mysql', 'start'])\n",
        "        print(\"MySQL installed and started.\")\n",
        "\n",
        "env = EnvironmentSetup()\n",
        "\n",
        "import mysql.connector\n",
        "from mysql.connector import errorcode\n",
        "from mysql.connector.connection import MySQLConnection\n",
        "from typing import Optional"
      ],
      "metadata": {
        "id": "aqO-vulR7uH3"
      },
      "execution_count": null,
      "outputs": []
    },
    {
      "cell_type": "markdown",
      "source": [
        "#### MySQL Command Executor Class"
      ],
      "metadata": {
        "id": "lnzXte8yU-Yq"
      }
    },
    {
      "cell_type": "code",
      "source": [
        "class MySQLCommandExecutor:\n",
        "    \"\"\"Class to handle MySQL command execution via subprocess.\"\"\"\n",
        "\n",
        "    def __init__(self, user: str = 'root', password: str ='root') -> None:\n",
        "        self.user = user\n",
        "        self.password = password\n",
        "\n",
        "    def execute_command(self, command: str) -> str | None:\n",
        "        \"\"\"Executes a MySQL shell command using subprocess.\"\"\"\n",
        "        try:\n",
        "            full_command = f\"mysql -u{self.user} -p{self.password} -e \\\"{command}\\\"\"\n",
        "            result = subprocess.run(full_command, shell=True, check=True, capture_output=True, text=True)\n",
        "            print(\"Command executed successfully.\")\n",
        "            return result.stdout\n",
        "        except subprocess.CalledProcessError as e:\n",
        "            print(\"Error executing command:\", e.stderr)\n",
        "            return None\n",
        "\n",
        "    def set_root_password(self, new_password: str = 'root') -> str | None:\n",
        "        \"\"\"Sets the password for the root MySQL user.\"\"\"\n",
        "        alter_command = (\n",
        "            f\"ALTER USER 'root'@'localhost' IDENTIFIED WITH 'mysql_native_password' BY '{new_password}';\"\n",
        "            \"FLUSH PRIVILEGES;\"\n",
        "        )\n",
        "        return self.execute_command(alter_command)"
      ],
      "metadata": {
        "id": "Kwx_MyFPQeu6"
      },
      "execution_count": null,
      "outputs": []
    },
    {
      "cell_type": "markdown",
      "source": [
        "#### Database Manager"
      ],
      "metadata": {
        "id": "T0tpm76mVUt9"
      }
    },
    {
      "cell_type": "code",
      "source": [
        "class DatabaseManager:\n",
        "    \"\"\"Handles database operations like creating tables and executing queries.\"\"\"\n",
        "\n",
        "    def __init__(self, connection: MySQLConnection) -> None:\n",
        "        self.connection = connection\n",
        "        self.cursor = connection.cursor()\n",
        "\n",
        "    def execute_script(self, script: str, verbose: bool = False) -> None:\n",
        "        \"\"\"Executes a multi-statement SQL script.\"\"\"\n",
        "        try:\n",
        "            for result in self.cursor.execute(script, multi=True):\n",
        "                if verbose:\n",
        "                    print(f'Executed query: {script}')\n",
        "            self.connection.commit()\n",
        "            print(\"Script executed successfully.\")\n",
        "        except mysql.connector.Error as err:\n",
        "            print(f\"Error executing script: {err}\")\n",
        "\n",
        "    def close(self) -> None:\n",
        "        \"\"\"Closes the database connection.\"\"\"\n",
        "        self.cursor.close()\n",
        "        self.connection.close()"
      ],
      "metadata": {
        "id": "fQOjZO4eVRIz"
      },
      "execution_count": null,
      "outputs": []
    },
    {
      "cell_type": "markdown",
      "source": [
        "#### Database Connector Factory"
      ],
      "metadata": {
        "id": "g7dFQLVmVYYB"
      }
    },
    {
      "cell_type": "code",
      "source": [
        "class DatabaseConnectionFactory:\n",
        "    \"\"\"Factory class to create and manage database connections.\"\"\"\n",
        "\n",
        "    @staticmethod\n",
        "    def get_connection(user='root', password='root', host='localhost') -> Optional[MySQLConnection]:\n",
        "        \"\"\"Establishes a MySQL connection.\"\"\"\n",
        "        try:\n",
        "            connection = mysql.connector.connect(\n",
        "                host=host,\n",
        "                user=user,\n",
        "                password=password\n",
        "            )\n",
        "            return connection\n",
        "        except mysql.connector.Error as err:\n",
        "            if err.errno == errorcode.ER_ACCESS_DENIED_ERROR:\n",
        "                print(\"Error: Invalid username or password\")\n",
        "            elif err.errno == errorcode.ER_BAD_DB_ERROR:\n",
        "                print(\"Error: Database does not exist\")\n",
        "            else:\n",
        "                print(err)\n",
        "            return None"
      ],
      "metadata": {
        "id": "ZhwB_ezEVeZW"
      },
      "execution_count": null,
      "outputs": []
    },
    {
      "cell_type": "markdown",
      "source": [
        "#### Inventory Database Initializer"
      ],
      "metadata": {
        "id": "Gj7BQk12ViYt"
      }
    },
    {
      "cell_type": "code",
      "source": [
        "class InventoryDBInitializer:\n",
        "    \"\"\"Initializes the store inventory database with tables and sample data.\"\"\"\n",
        "\n",
        "    CREATE_DB_SCRIPT = '''\n",
        "    DROP DATABASE IF EXISTS store_inventory;\n",
        "    CREATE DATABASE IF NOT EXISTS store_inventory;\n",
        "    USE store_inventory;\n",
        "    '''\n",
        "\n",
        "    CREATE_TABLES_SCRIPT = '''\n",
        "    DROP TABLE IF EXISTS t_shirts;\n",
        "    CREATE TABLE IF NOT EXISTS t_shirts (\n",
        "        t_shirt_id INT AUTO_INCREMENT PRIMARY KEY,\n",
        "        brand ENUM('Peter England', 'Van Huesen', 'Levis', 'Nike', 'Adidas', 'Puma') NOT NULL,\n",
        "        color ENUM('Red', 'Blue', 'Pink', 'Black', 'White', 'Navy') NOT NULL,\n",
        "        size ENUM('XS', 'S', 'M', 'L', 'XL') NOT NULL,\n",
        "        price INT CHECK (price BETWEEN 10 AND 50),\n",
        "        stock_quantity INT NOT NULL,\n",
        "        UNIQUE KEY brand_color_size (brand, color, size)\n",
        "    );\n",
        "\n",
        "    DROP TABLE IF EXISTS discounts;\n",
        "    CREATE TABLE IF NOT EXISTS discounts (\n",
        "        discount_id INT AUTO_INCREMENT PRIMARY KEY,\n",
        "        t_shirt_id INT NOT NULL,\n",
        "        pct_discount DECIMAL(5,2) CHECK (pct_discount BETWEEN 0 AND 100),\n",
        "        FOREIGN KEY (t_shirt_id) REFERENCES t_shirts(t_shirt_id)\n",
        "    );\n",
        "    '''\n",
        "\n",
        "    CREATE_PROCEDURE_SCRIPT = '''\n",
        "    CREATE PROCEDURE PopulateTShirts()\n",
        "    BEGIN\n",
        "        DECLARE counter INT DEFAULT 0;\n",
        "        DECLARE max_records INT DEFAULT 10000;\n",
        "        DECLARE brand VARCHAR(50);\n",
        "        DECLARE color VARCHAR(50);\n",
        "        DECLARE size VARCHAR(10);\n",
        "        DECLARE price INT;\n",
        "        DECLARE stock INT;\n",
        "\n",
        "        -- Seed the random number generator\n",
        "        SET SESSION rand_seed1 = UNIX_TIMESTAMP();\n",
        "\n",
        "        WHILE counter < max_records DO\n",
        "            -- Generate random values\n",
        "            SET brand = ELT(FLOOR(1 + RAND() * 6), 'Peter England', 'Van Huesen', 'Levis', 'Nike', 'Adidas', 'Puma');\n",
        "            SET color = ELT(FLOOR(1 + RAND() * 6), 'Red', 'Blue', 'Pink', 'Black', 'White', 'Navy');\n",
        "            SET size = ELT(FLOOR(1 + RAND() * 5), 'XS', 'S', 'M', 'L', 'XL');\n",
        "            SET price = FLOOR(10 + RAND() * 41);\n",
        "            SET stock = FLOOR(10 + RAND() * 91);\n",
        "\n",
        "            BEGIN\n",
        "                DECLARE CONTINUE HANDLER FOR SQLEXCEPTION BEGIN END;  -- Handle any SQL exceptions (such as duplicate key)\n",
        "                INSERT INTO t_shirts (brand, color, size, price, stock_quantity)\n",
        "                VALUES (brand, color, size, price, stock);\n",
        "                SET counter = counter + 1;\n",
        "            END;\n",
        "        END WHILE;\n",
        "    END;\n",
        "    '''\n",
        "\n",
        "    POPULATE_DISCOUNTS_SCRIPT = '''\n",
        "    INSERT INTO discounts (t_shirt_id, pct_discount)\n",
        "    VALUES\n",
        "    (1, 10.00), (2, 15.00), (3, 20.00), (4, 5.00),\n",
        "    (5, 25.00), (6, 10.00), (7, 30.00), (8, 35.00),\n",
        "    (9, 40.00), (10, 45.00), (11, 55.00);\n",
        "    '''\n",
        "\n",
        "    def __init__(self) -> None:\n",
        "        self.manager = None\n",
        "\n",
        "    def setup_database(self) -> None:\n",
        "        \"\"\"Sets up the inventory database and tables.\"\"\"\n",
        "        connection = DatabaseConnectionFactory.get_connection()\n",
        "        if connection:\n",
        "            self.manager = DatabaseManager(connection)\n",
        "            try:\n",
        "                # Create database and tables\n",
        "                self.manager.execute_script(self.CREATE_DB_SCRIPT)\n",
        "                self.manager.execute_script(self.CREATE_TABLES_SCRIPT)\n",
        "\n",
        "                # Create the procedure\n",
        "                self.manager.execute_script(self.CREATE_PROCEDURE_SCRIPT)\n",
        "\n",
        "                # Populate the t_shirts table using the stored procedure\n",
        "                self.manager.execute_script(\"CALL PopulateTShirts();\")\n",
        "\n",
        "                # Drop the procedure after use\n",
        "                self.manager.execute_script(\"DROP PROCEDURE IF EXISTS PopulateTShirts;\")\n",
        "\n",
        "                # Populate the discounts table with a delay to ensure t_shirts are populated first\n",
        "                self.manager.execute_script(self.POPULATE_DISCOUNTS_SCRIPT)\n",
        "\n",
        "                print(\"Database and tables set up successfully.\")\n",
        "\n",
        "            except Exception as e:\n",
        "                print(f\"An error occurred while setting up the database: {e}\")\n",
        "            finally:\n",
        "                self.manager.close()\n",
        "        else:\n",
        "            print(\"Failed to establish a database connection.\")"
      ],
      "metadata": {
        "id": "x9kQOZLfVnrC"
      },
      "execution_count": null,
      "outputs": []
    },
    {
      "cell_type": "markdown",
      "source": [
        "#### Test Class"
      ],
      "metadata": {
        "id": "cumoJIB6ZTza"
      }
    },
    {
      "cell_type": "code",
      "source": [
        "class DatabaseTest:\n",
        "    \"\"\"Class to test the database setup and generate a report on its state.\"\"\"\n",
        "\n",
        "    def __init__(self, connection: MySQLConnection):\n",
        "        \"\"\"Initialize with a database connection.\"\"\"\n",
        "        self.connection = connection\n",
        "        self.cursor = self.connection.cursor(dictionary=True)\n",
        "\n",
        "    def check_database(self):\n",
        "        \"\"\"Verify connection to the database.\"\"\"\n",
        "        try:\n",
        "            self.cursor.execute(\"USE store_inventory;\")\n",
        "            print(\"Connected to store_inventory database.\")\n",
        "        except mysql.connector.Error as err:\n",
        "            print(\"Error: Unable to connect to store_inventory database:\", err)\n",
        "            return False\n",
        "        return True\n",
        "\n",
        "    def check_tables_exist(self):\n",
        "        \"\"\"Check if the required tables exist in the database.\"\"\"\n",
        "        tables = [\"t_shirts\", \"discounts\"]\n",
        "        missing_tables = []\n",
        "\n",
        "        for table in tables:\n",
        "            try:\n",
        "                self.cursor.execute(f\"SHOW TABLES LIKE '{table}';\")\n",
        "                result = self.cursor.fetchone()\n",
        "                if not result:\n",
        "                    missing_tables.append(table)\n",
        "            except mysql.connector.Error as err:\n",
        "                print(f\"Error checking table {table}:\", err)\n",
        "                missing_tables.append(table)\n",
        "\n",
        "        if missing_tables:\n",
        "            print(\"Missing tables:\", \", \".join(missing_tables))\n",
        "            return False\n",
        "        print(\"All required tables exist.\")\n",
        "        return True\n",
        "\n",
        "    def check_record_counts(self):\n",
        "        \"\"\"Check the number of records in the tables.\"\"\"\n",
        "        record_counts = {}\n",
        "        tables = [\"t_shirts\", \"discounts\"]\n",
        "\n",
        "        for table in tables:\n",
        "            try:\n",
        "                self.cursor.execute(f\"SELECT COUNT(*) AS count FROM {table};\")\n",
        "                result = self.cursor.fetchone()\n",
        "                record_counts[table] = result['count']\n",
        "            except mysql.connector.Error as err:\n",
        "                print(f\"Error querying table {table}:\", err)\n",
        "                record_counts[table] = \"Error\"\n",
        "\n",
        "        print(\"Record Counts:\")\n",
        "        for table, count in record_counts.items():\n",
        "            print(f\"  {table}: {count}\")\n",
        "        return record_counts\n",
        "\n",
        "    def query_sample_data(self):\n",
        "        \"\"\"Query and print a sample of records from each table.\"\"\"\n",
        "        samples = {}\n",
        "        tables = [\"t_shirts\", \"discounts\"]\n",
        "\n",
        "        for table in tables:\n",
        "            try:\n",
        "                self.cursor.execute(f\"SELECT * FROM {table} LIMIT 5;\")\n",
        "                samples[table] = self.cursor.fetchall()\n",
        "            except mysql.connector.Error as err:\n",
        "                print(f\"Error querying table {table}:\", err)\n",
        "                samples[table] = []\n",
        "\n",
        "        print(\"Sample Data:\")\n",
        "        for table, rows in samples.items():\n",
        "            print(f\"\\nTable: {table}\")\n",
        "            for row in rows:\n",
        "                print(row)\n",
        "        return samples\n",
        "\n",
        "    def generate_report(self):\n",
        "        \"\"\"Generate and print a report on database structure and content.\"\"\"\n",
        "        print(\"\\n--- Database Setup Report ---\")\n",
        "        if not self.check_database():\n",
        "            print(\"Database check failed. Report incomplete.\")\n",
        "            return\n",
        "\n",
        "        tables_exist = self.check_tables_exist()\n",
        "        record_counts = self.check_record_counts()\n",
        "        sample_data = self.query_sample_data()\n",
        "\n",
        "        print(\"\\n--- Report Summary ---\")\n",
        "        print(\"Tables Check:\", \"Pass\" if tables_exist else \"Fail\")\n",
        "        print(\"Record Counts:\", record_counts)\n",
        "        print(\"Sample Data Queried. See details above.\")\n",
        "        print(\"\\n--- End of Report ---\")\n",
        "\n",
        "    def close(self):\n",
        "        \"\"\"Close the database connection.\"\"\"\n",
        "        self.cursor.close()\n",
        "        self.connection.close()"
      ],
      "metadata": {
        "id": "C4Ka_ciEZWI1"
      },
      "execution_count": null,
      "outputs": []
    },
    {
      "cell_type": "markdown",
      "source": [
        "#### Driver Code"
      ],
      "metadata": {
        "id": "qssSuNprVvQw"
      }
    },
    {
      "cell_type": "code",
      "source": [
        "if __name__ == \"__main__\":\n",
        "    executor = MySQLCommandExecutor(user='root', password='root')\n",
        "    executor.set_root_password('root')  # Change the root password if needed\n",
        "\n",
        "    initializer = InventoryDBInitializer()\n",
        "    initializer.setup_database()\n",
        "\n",
        "    # Test\n",
        "    connection = DatabaseConnectionFactory.get_connection(user='root', password='root', host='localhost')\n",
        "    if connection:\n",
        "        db_test = DatabaseTest(connection)\n",
        "        db_test.generate_report()\n",
        "        db_test.close()\n",
        "    else:\n",
        "        print(\"Could not establish connection for testing.\")"
      ],
      "metadata": {
        "id": "GAGLO8XTVvCq"
      },
      "execution_count": null,
      "outputs": []
    }
  ]
}
